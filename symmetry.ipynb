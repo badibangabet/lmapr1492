{
 "cells": [
  {
   "cell_type": "code",
   "execution_count": 66,
   "metadata": {},
   "outputs": [],
   "source": [
    "from pymatgen.ext.matproj import MPRester\n",
    "from pymatgen.entries.compatibility import MaterialsProjectCompatibility\n",
    "from pymatgen.io.cif import CifWriter\n",
    "\n",
    "with MPRester(\"j4TaClKeSNgPZb8Bxm\") as m:\n",
    "    # Structure for material id\n",
    "    structure = m.get_structure_by_material_id(\"mp-753098\")\n",
    "    w = CifWriter(structure,0.1)\n",
    "    w.write_file('mp-753098.cif')\n",
    "\n",
    "from pymatgen.symmetry.analyzer import SpacegroupAnalyzer\n",
    "\n",
    "new_s=SpacegroupAnalyzer(structure).get_conventional_standard_structure() \n",
    "\n",
    "sym = SpacegroupAnalyzer(new_s).get_symmetry_operations(cartesian=False)\n",
    "\n",
    "import numpy as np\n",
    "\n",
    "S = np.asarray(sym)\n",
    "#print(S)\n",
    "\n",
    "#Symétrie pour Li (2.Ci: 0 0 0 (-x,-y,-z))\n",
    "\n",
    "symli = S[1]\n",
    "s = symli.as_xyz_string()\n",
    "lit = symli.operate([0, 0, 0.5])\n",
    "\n",
    "#Symétrie pour Cu (8.mirror plane: (-y,-x,z))\n",
    "\n",
    "symcu = S[7]\n",
    "c = symcu.as_xyz_string()\n",
    "cu = symcu.operate([0,0,0])\n",
    "\n",
    "#Symétrie pour F (4. 3-bar axis (y,-x+y,-z))\n",
    "\n",
    "symf= S[3]\n",
    "f = symf.as_xyz_string()\n",
    "fuf = symf.operate([0,0,0.1]) "
   ]
  },
  {
   "cell_type": "code",
   "execution_count": null,
   "metadata": {},
   "outputs": [],
   "source": []
  },
  {
   "cell_type": "code",
   "execution_count": null,
   "metadata": {},
   "outputs": [],
   "source": []
  },
  {
   "cell_type": "code",
   "execution_count": null,
   "metadata": {},
   "outputs": [],
   "source": []
  },
  {
   "cell_type": "code",
   "execution_count": null,
   "metadata": {},
   "outputs": [],
   "source": []
  },
  {
   "cell_type": "code",
   "execution_count": null,
   "metadata": {},
   "outputs": [],
   "source": []
  },
  {
   "cell_type": "code",
   "execution_count": null,
   "metadata": {},
   "outputs": [],
   "source": []
  },
  {
   "cell_type": "code",
   "execution_count": null,
   "metadata": {},
   "outputs": [],
   "source": []
  }
 ],
 "metadata": {
  "kernelspec": {
   "display_name": "Python 3",
   "language": "python",
   "name": "python3"
  },
  "language_info": {
   "codemirror_mode": {
    "name": "ipython",
    "version": 3
   },
   "file_extension": ".py",
   "mimetype": "text/x-python",
   "name": "python",
   "nbconvert_exporter": "python",
   "pygments_lexer": "ipython3",
   "version": "3.6.8"
  }
 },
 "nbformat": 4,
 "nbformat_minor": 2
}
